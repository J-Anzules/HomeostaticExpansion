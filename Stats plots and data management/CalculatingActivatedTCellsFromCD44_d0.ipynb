{
 "cells": [
  {
   "cell_type": "code",
   "execution_count": 4,
   "metadata": {},
   "outputs": [],
   "source": [
    "import pandas as pd\n",
    "import numpy as np\n",
    "from collections import Counter\n",
    "\n",
    "#########################################\n",
    "# Calculating all activated CD4 T cells #\n",
    "#########################################\n",
    "\n",
    "def NumOfActivatedCD4(grp):\n",
    "    '''\n",
    "    This will take one pop group and finds the equivalent group from the GmCD44 group, \n",
    "    then takes the percentage from the appropriate GmCD44 percentage and multiplies it to the pop CD4CT group.\n",
    "    Requirement:\n",
    "         age = grp.name[0]\n",
    "         Genotype = str(grp.name[1])\n",
    "    '''\n",
    "    \n",
    "#The CD4Tcell groups equivalent to the CD69 data groups. This \n",
    "    pct = GmCD44.loc[(GmCD44['Age'] == grp.name[0]) & (GmCD44['Genotype']==str(grp.name[1]))]['pct_CD4_CD44_pos_CD62L_neg'].iloc[0]\n",
    "    pct = pct / 100\n",
    "    return grp * pct\n",
    "\n",
    "#########################################\n",
    "# Calculating all EARLY activated CD4 T cells #\n",
    "#########################################\n",
    "\n",
    "def NumOfEarlyActivation(grp):\n",
    "    '''\n",
    "    This will take one pop group and finds the equivalent group from the GmCD44 group, \n",
    "    then takes the percentage from the appropriate GmCD44 percentage and multiplies it to the pop CD4CT group.\n",
    "    Requirement:\n",
    "         age = grp.name[0]\n",
    "         Genotype = str(grp.name[1])\n",
    "    '''\n",
    "    \n",
    "#The CD4Tcell groups equivalent to the CD69 data groups. This \n",
    "    pct = GmCD44.loc[(GmCD44['Age'] == grp.name[0]) & (GmCD44['Genotype']==str(grp.name[1]))]['pct_CD4_CD69_pos'].iloc[0]\n",
    "    pct = pct / 100\n",
    "    return grp * pct"
   ]
  },
  {
   "cell_type": "code",
   "execution_count": 5,
   "metadata": {},
   "outputs": [],
   "source": [
    "####################\n",
    "#Preparing My Data #\n",
    "####################\n",
    "pop = pd.read_csv( \"/mnt/c/Laptop Backups/HomestaticExpansionProject/ModelData/NaiveTregDifferentiation.csv\")\n",
    "# Choosing spleen only data"
   ]
  },
  {
   "cell_type": "code",
   "execution_count": 15,
   "metadata": {},
   "outputs": [],
   "source": [
    "# Splnpop = pop.loc[pop['Organ'] == 'Spleen']\n",
    "\n",
    "# Removing Ages that we do not have information on in the pop file\n",
    "CD69Ages = [0, 4, 7, 9, 12, 14, 18]\n",
    "ActivatedCD4pop = pop[pop.Age.isin(CD69Ages)].copy()\n",
    "\n",
    "########################################\n",
    "# Preparing Genevieves Activation Data #\n",
    "########################################\n",
    "\n",
    "CD44df = pd.read_csv('/mnt/c/Laptop Backups/HomestaticExpansionProject/ModelData/TCellActivationSummary_EdittedinR_D0.csv')\n",
    "\n",
    "#Selecting only the columns that we want\n",
    "CD44df = CD44df[[ 'Age', 'Genotype', 'pct_CD4_CD44_pos_CD62L_neg', 'pct_CD4_CD69_pos']]\n",
    "#Grouping and finding the mean\n",
    "GmCD44 = CD44df.groupby( [ \"Age\", \"Genotype\"] ).mean().reset_index()"
   ]
  },
  {
   "cell_type": "code",
   "execution_count": 19,
   "metadata": {},
   "outputs": [],
   "source": [
    "ActivatedCD4pop['ActivatedCD4CT'] = (\n",
    "    ActivatedCD4pop.groupby([\"Age\", \"Genotype\"])['NoTregCD4CT']\n",
    "    .apply(NumOfActivatedCD4)\n",
    "    .reset_index(level=[0,1], drop=True)\n",
    ")\n",
    "\n",
    "ActivatedCD4pop['EarlyActivatedCD4CT'] = (\n",
    "    ActivatedCD4pop.groupby([\"Age\", \"Genotype\"])['ActivatedCD4CT']\n",
    "    .apply(NumOfEarlyActivation)\n",
    "    .reset_index(level=[0,1], drop=True)\n",
    ")"
   ]
  },
  {
   "cell_type": "code",
   "execution_count": 20,
   "metadata": {},
   "outputs": [],
   "source": [
    "ActivatedCD4pop.to_csv('/mnt/c/Laptop Backups/HomestaticExpansionProject/ModelData/ActivatedCD4pop2_0_2.csv')"
   ]
  },
  {
   "cell_type": "code",
   "execution_count": null,
   "metadata": {},
   "outputs": [],
   "source": []
  }
 ],
 "metadata": {
  "kernelspec": {
   "display_name": "Python 3 (ipykernel)",
   "language": "python",
   "name": "python3"
  },
  "language_info": {
   "codemirror_mode": {
    "name": "ipython",
    "version": 3
   },
   "file_extension": ".py",
   "mimetype": "text/x-python",
   "name": "python",
   "nbconvert_exporter": "python",
   "pygments_lexer": "ipython3",
   "version": "3.11.5"
  }
 },
 "nbformat": 4,
 "nbformat_minor": 4
}
